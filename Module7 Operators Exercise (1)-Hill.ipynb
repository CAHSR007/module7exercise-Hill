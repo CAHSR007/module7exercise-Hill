{
 "cells": [
  {
   "cell_type": "markdown",
   "metadata": {},
   "source": [
    "### Exercise 1\n",
    "Ask a user to enter a number. If the number is positive, print <b>Positive number</b>. Otherwise, do not print any message. Finally, print 'goodbye' message at the end."
   ]
  },
  {
   "cell_type": "code",
   "execution_count": 10,
   "metadata": {},
   "outputs": [
    {
     "name": "stdout",
     "output_type": "stream",
     "text": [
      "Please enter a number:-7\n",
      "goodbye\n"
     ]
    }
   ],
   "source": [
    "# I = \n",
    "\n",
    "\n",
    "\n",
    "\n",
    "#Ask a user to enter a number\n",
    "\n",
    "num = int(input(\"Please enter a number:\" ))\n",
    "\n",
    "# If the number is positive, print Positive number \n",
    "# ie. > 0\n",
    "\n",
    "if num > 0:\n",
    "    print(\"Positive number\")\n",
    "# Finally, print 'goodbye' message at the end\n",
    "\n",
    "print(\"goodbye\")"
   ]
  },
  {
   "cell_type": "code",
   "execution_count": null,
   "metadata": {},
   "outputs": [],
   "source": []
  },
  {
   "cell_type": "markdown",
   "metadata": {},
   "source": [
    "### Exercise 2\n",
    "Ask for a code and store that answer. \n",
    "If the answer is grey then print out if you found secret code.\n",
    "Otherwise print out the code is not the secret code."
   ]
  },
  {
   "cell_type": "code",
   "execution_count": 22,
   "metadata": {},
   "outputs": [
    {
     "name": "stdout",
     "output_type": "stream",
     "text": [
      "Please enter a secret code word: blue\n",
      "the code is not the secret code\n"
     ]
    }
   ],
   "source": [
    "# Ask for a code and store that answer\n",
    "\n",
    "sec_code = str(input(\"Please enter a secret code word: \"))\n",
    "\n",
    "# If the answer is grey then print out if you found secret code\n",
    "\n",
    "if sec_code == \"grey\":\n",
    "    print(\"you found the secret code\")\n",
    "\n",
    "# Otherwise print out the code is not the secret code\n",
    "else:    \n",
    "    print(\"the code is not the secret code\") \n"
   ]
  },
  {
   "cell_type": "code",
   "execution_count": null,
   "metadata": {},
   "outputs": [],
   "source": []
  },
  {
   "cell_type": "markdown",
   "metadata": {},
   "source": [
    "### Exercise 3\n",
    "\n",
    "Ask a user to enter a phrase. If the word contains a number, display the \"Number found\" message. Otherwise, show the \"Number not found\" message. "
   ]
  },
  {
   "cell_type": "code",
   "execution_count": 27,
   "metadata": {},
   "outputs": [
    {
     "name": "stdout",
     "output_type": "stream",
     "text": [
      "Please enter a phrase: hello bob3\n",
      "Number found\n"
     ]
    }
   ],
   "source": [
    "# I = int\n",
    "\n",
    "# P \n",
    "\n",
    "# O = \"Number found\" or \"Number not found\"\n",
    "\n",
    "\n",
    "\n",
    "\n",
    "# Ask a user to enter a phrase\n",
    "\n",
    "phrase = (input(\"Please enter a phrase: \"))\n",
    "\n",
    "# If the phrase contains a number, display the \"Number found\"\n",
    "\n",
    "if any(str(i) in phrase for i in range(10)):\n",
    "    print(\"Number found\")\n",
    "else:\n",
    "    print(\"Number not found\")\n",
    "\n",
    "# Otherwise, show the \"Number not found\"\n"
   ]
  },
  {
   "cell_type": "code",
   "execution_count": null,
   "metadata": {},
   "outputs": [],
   "source": []
  },
  {
   "cell_type": "markdown",
   "metadata": {},
   "source": [
    "### Exercise 4\n",
    "\n",
    "Ask a user to enter a number. Then, only if the number is divisible by 2 and 3, show the result of the number divided by two and three in a formated string. The output should look something like this:\n",
    "        \n",
    "    Enter a number: 2\n",
    "    Bye    \n",
    "    \n",
    "    Enter a number: 60\n",
    "    60 / 2 = 30.0\n",
    "    60 / 3 = 20.0\n",
    "    Bye\n",
    "    \n",
    "    Enter a number: 3\n",
    "    Bye\n",
    "    \n",
    "    Enter a number: 10\n",
    "    Bye    "
   ]
  },
  {
   "cell_type": "code",
   "execution_count": 42,
   "metadata": {
    "scrolled": true
   },
   "outputs": [
    {
     "name": "stdout",
     "output_type": "stream",
     "text": [
      "Please enter a number: 6\n",
      "6.0 3.0 / 2  2.0 / 3\n",
      "Bye\n"
     ]
    }
   ],
   "source": [
    "\n",
    "# Ask a user to enter a number\n",
    "\n",
    "\n",
    "\n",
    "num = float(input(\"Please enter a number: \"))\n",
    "\n",
    "# if the number is divisible by 2 and 3\n",
    "if num % 2 == 0 and num % 3 == 0:\n",
    "    ans1 = 0\n",
    "    ans2 = 0\n",
    "   \n",
    "    ans1 = num / 2\n",
    "    ans2 = num / 3 \n",
    "    \n",
    "    \n",
    "    print(f'{num} {ans1} / 2  {ans2} / 3')\n",
    "          \n",
    "          #)num1 = num / 2\n",
    "   # num2 = num / 3\n",
    "# print num1 and num2 in a formated string \n",
    "    \n",
    "#    print(f\"{num1} {num2}\")\n",
    "\n",
    "# print Bye everytime\n",
    "print(\"Bye\")\n",
    "\n",
    " "
   ]
  },
  {
   "cell_type": "code",
   "execution_count": null,
   "metadata": {},
   "outputs": [],
   "source": []
  },
  {
   "cell_type": "markdown",
   "metadata": {},
   "source": [
    "### Exercise 5\n",
    "Ask a user to enter a number. Determine if the number is zero, positive or negative. Use only <b>if</b> and <b>else</b> statements. \n",
    "    "
   ]
  },
  {
   "cell_type": "code",
   "execution_count": 47,
   "metadata": {},
   "outputs": [
    {
     "name": "stdout",
     "output_type": "stream",
     "text": [
      "Please enter a number: 0\n",
      "Number is zero\n"
     ]
    }
   ],
   "source": [
    "#Ask a user to enter a number \n",
    "num = int(input(\"Please enter a number: \"))\n",
    "\n",
    "# Determine if the number is zero, positive or negative \n",
    "if num > 0:\n",
    "    print(\"Greater than zero\")\n",
    "    \n",
    "if num < 0:\n",
    "    print(\"Less than zero\")\n",
    "    \n",
    "if num == 0:\n",
    "    print(\"Number is zero\")\n",
    "        \n",
    "\n",
    "# Use only if and else statements."
   ]
  },
  {
   "cell_type": "code",
   "execution_count": null,
   "metadata": {},
   "outputs": [],
   "source": []
  },
  {
   "cell_type": "code",
   "execution_count": null,
   "metadata": {},
   "outputs": [],
   "source": []
  },
  {
   "cell_type": "code",
   "execution_count": null,
   "metadata": {},
   "outputs": [],
   "source": []
  }
 ],
 "metadata": {
  "kernelspec": {
   "display_name": "Python 3 (ipykernel)",
   "language": "python",
   "name": "python3"
  },
  "language_info": {
   "codemirror_mode": {
    "name": "ipython",
    "version": 3
   },
   "file_extension": ".py",
   "mimetype": "text/x-python",
   "name": "python",
   "nbconvert_exporter": "python",
   "pygments_lexer": "ipython3",
   "version": "3.11.4"
  }
 },
 "nbformat": 4,
 "nbformat_minor": 4
}
